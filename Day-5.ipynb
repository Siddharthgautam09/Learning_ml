{
 "cells": [
  {
   "cell_type": "code",
   "execution_count": null,
   "id": "537f0f7f",
   "metadata": {},
   "outputs": [],
   "source": [
    "def greet(name):\n",
    "    print(\"Hello, \" + name + \"!\")\n",
    "n=input(\"Enter a name \")\n",
    "n_2=n.title()\n",
    "greet(n_2)"
   ]
  },
  {
   "cell_type": "code",
   "execution_count": null,
   "id": "d242087a",
   "metadata": {},
   "outputs": [],
   "source": [
    "def sum(a,b):\n",
    "    return a+b\n",
    "a=int(input(\"Enter a no. \"))\n",
    "b=int(input(\"Enter a no. \"))\n",
    "sum(a,b)"
   ]
  },
  {
   "cell_type": "code",
   "execution_count": null,
   "id": "8490f4c8",
   "metadata": {},
   "outputs": [],
   "source": [
    "def exponent(a,b=2):\n",
    "    c=a**b\n",
    "    return c\n",
    "a=int(input(\"Enter a no. \"))\n",
    "exponent(a,b=2)\n"
   ]
  },
  {
   "cell_type": "code",
   "execution_count": null,
   "id": "280869a3",
   "metadata": {},
   "outputs": [],
   "source": [
    "c=15\n",
    "def update_c():\n",
    "    global c\n",
    "    c=int(input(\"Enter a no \"))\n",
    "update_c()\n",
    "print(c)"
   ]
  },
  {
   "cell_type": "code",
   "execution_count": null,
   "id": "5a5a5c95",
   "metadata": {},
   "outputs": [],
   "source": [
    "print(type(c))"
   ]
  },
  {
   "cell_type": "code",
   "execution_count": null,
   "id": "8515e41b",
   "metadata": {},
   "outputs": [],
   "source": [
    "def factorial(n):\n",
    "    if n==1 or n==0:\n",
    "        return 1\n",
    "    else:\n",
    "        return n*factorial(n-1)\n",
    "n=int(input(\"Enter a number \"))\n",
    "factorial(n)"
   ]
  },
  {
   "cell_type": "code",
   "execution_count": null,
   "id": "1ad82da9",
   "metadata": {},
   "outputs": [],
   "source": [
    "square=lambda x: x**2\n",
    "print(square(55))"
   ]
  },
  {
   "cell_type": "code",
   "execution_count": null,
   "id": "782205a2",
   "metadata": {},
   "outputs": [],
   "source": [
    "expo=lambda x,y: x**y\n",
    "print(expo(5,6))"
   ]
  },
  {
   "cell_type": "code",
   "execution_count": null,
   "id": "5997bdb9",
   "metadata": {},
   "outputs": [],
   "source": [
    "lst=[1,2,3]\n",
    "new_lst=list(map(lambda x: x**2 , lst))\n",
    "n=int(input(\"Enter a no. \"))\n",
    "print(new_lst)"
   ]
  },
  {
   "cell_type": "code",
   "execution_count": null,
   "id": "0a4be052",
   "metadata": {},
   "outputs": [],
   "source": [
    "def length(a):\n",
    "    print(len(a))\n",
    "a=input(\"Enter a string___\")\n",
    "length(a)\n"
   ]
  },
  {
   "cell_type": "code",
   "execution_count": null,
   "id": "95f20b18",
   "metadata": {},
   "outputs": [],
   "source": [
    "import time\n",
    "def timetaken(func):\n",
    "    def wrapper():\n",
    "        st=time.time()\n",
    "        func()\n",
    "        end=time.time()\n",
    "        print(\"Time:\", end-st)\n",
    "    return wrapper\n",
    "@timetaken\n",
    "def func():\n",
    "    print(\"Hello\")\n",
    "func()"
   ]
  },
  {
   "cell_type": "code",
   "execution_count": null,
   "id": "4a59a6bf",
   "metadata": {},
   "outputs": [],
   "source": []
  },
  {
   "cell_type": "markdown",
   "id": "e9bc4cd9",
   "metadata": {},
   "source": [
    "# ARRAY"
   ]
  },
  {
   "cell_type": "code",
   "execution_count": 1,
   "id": "2c60866a",
   "metadata": {},
   "outputs": [
    {
     "name": "stdout",
     "output_type": "stream",
     "text": [
      "['volvo', 'bmw', 'gwagon', 'rolls royace', 'Fortuner']\n"
     ]
    }
   ],
   "source": [
    "cars=[\"volvo\", \"bmw\", \"gwagon\", \"rolls royace\"]\n",
    "cars.append(\"Fortuner\")\n",
    "\n",
    "print(cars)"
   ]
  },
  {
   "cell_type": "code",
   "execution_count": null,
   "id": "900286ec",
   "metadata": {},
   "outputs": [],
   "source": []
  },
  {
   "cell_type": "code",
   "execution_count": null,
   "id": "2e910c97",
   "metadata": {},
   "outputs": [],
   "source": []
  },
  {
   "cell_type": "code",
   "execution_count": null,
   "id": "48e21d43",
   "metadata": {},
   "outputs": [],
   "source": []
  },
  {
   "cell_type": "code",
   "execution_count": null,
   "id": "d092b30b",
   "metadata": {},
   "outputs": [],
   "source": []
  }
 ],
 "metadata": {
  "kernelspec": {
   "display_name": "Python 3 (ipykernel)",
   "language": "python",
   "name": "python3"
  },
  "language_info": {
   "codemirror_mode": {
    "name": "ipython",
    "version": 3
   },
   "file_extension": ".py",
   "mimetype": "text/x-python",
   "name": "python",
   "nbconvert_exporter": "python",
   "pygments_lexer": "ipython3",
   "version": "3.11.5"
  }
 },
 "nbformat": 4,
 "nbformat_minor": 5
}
