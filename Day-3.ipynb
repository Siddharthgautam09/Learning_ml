{
 "cells": [
  {
   "cell_type": "markdown",
   "id": "396d7fe2",
   "metadata": {},
   "source": [
    "# Taking Input from the user"
   ]
  },
  {
   "cell_type": "code",
   "execution_count": null,
   "id": "254a7205",
   "metadata": {},
   "outputs": [],
   "source": [
    "a=input(\"Enter your name: \")\n",
    "print(\"My name is \" + a)"
   ]
  },
  {
   "cell_type": "code",
   "execution_count": null,
   "id": "093d2f28",
   "metadata": {},
   "outputs": [],
   "source": [
    "b=int(input(\"Enter your age \"))\n"
   ]
  },
  {
   "cell_type": "code",
   "execution_count": null,
   "id": "89227c7e",
   "metadata": {},
   "outputs": [],
   "source": [
    "print(f\"{a} is {b} years old\") # dot format"
   ]
  },
  {
   "cell_type": "code",
   "execution_count": null,
   "id": "2ff813c3",
   "metadata": {},
   "outputs": [],
   "source": [
    "first,last=a.split()\n",
    "# print(first,last)\n",
    "print(f\"{first[0]+'. '+last} is {b} year old\") #include full name first and second name  "
   ]
  },
  {
   "cell_type": "code",
   "execution_count": null,
   "id": "90404aec",
   "metadata": {},
   "outputs": [],
   "source": [
    "name=input(\"Enter your name \")"
   ]
  },
  {
   "cell_type": "code",
   "execution_count": null,
   "id": "13269318",
   "metadata": {},
   "outputs": [],
   "source": [
    "print(name.title())\n",
    "print(name.strip())\n",
    "print(name.lower())\n",
    "print(name.upper())\n",
    "print(name.center(0))"
   ]
  },
  {
   "cell_type": "code",
   "execution_count": null,
   "id": "3c5468fd",
   "metadata": {},
   "outputs": [],
   "source": [
    "print(len(name))\n",
    "print(type(name))"
   ]
  },
  {
   "cell_type": "markdown",
   "id": "0054cd13",
   "metadata": {},
   "source": [
    "# Condition statement"
   ]
  },
  {
   "cell_type": "code",
   "execution_count": null,
   "id": "725b6ed4",
   "metadata": {},
   "outputs": [],
   "source": [
    "a=int(input(\"Enter number a: \"))\n",
    "b=int(input(\"Enter number b: \"))\n",
    "if a>b:\n",
    "    print(\"A is Larger\")\n",
    "else:\n",
    "    print(\"B is larger\")"
   ]
  },
  {
   "cell_type": "code",
   "execution_count": 5,
   "id": "d1476de3",
   "metadata": {},
   "outputs": [
    {
     "name": "stdout",
     "output_type": "stream",
     "text": [
      "Enter a number:97\n",
      "prime\n"
     ]
    }
   ],
   "source": [
    "# prime number\n",
    "a=int(input(\"Enter a number:\"))\n",
    "c=0\n",
    "for i in range(2,(a//2)+1):\n",
    "    if a%i==0:\n",
    "        c+=1\n",
    "if c>=1:\n",
    "    print(\"not prime\")\n",
    "else:\n",
    "    print(\"prime\")\n",
    "    "
   ]
  },
  {
   "cell_type": "code",
   "execution_count": 1,
   "id": "f705ba6c",
   "metadata": {},
   "outputs": [
    {
     "name": "stdout",
     "output_type": "stream",
     "text": [
      "Enter a number:65\n",
      "number is odd\n"
     ]
    }
   ],
   "source": [
    "x=int(input(\"Enter a number:\"))\n",
    "if(x%2==0):\n",
    "    print(\"number is even\")\n",
    "else:\n",
    "    print(\"number is odd\")"
   ]
  },
  {
   "cell_type": "markdown",
   "id": "3702fd54",
   "metadata": {},
   "source": [
    "#  compare 3 numbers\n",
    "# print prime no. is 1 to n\n",
    "# grading System\n"
   ]
  },
  {
   "cell_type": "code",
   "execution_count": null,
   "id": "42b8aeea",
   "metadata": {},
   "outputs": [],
   "source": []
  }
 ],
 "metadata": {
  "kernelspec": {
   "display_name": "Python 3 (ipykernel)",
   "language": "python",
   "name": "python3"
  },
  "language_info": {
   "codemirror_mode": {
    "name": "ipython",
    "version": 3
   },
   "file_extension": ".py",
   "mimetype": "text/x-python",
   "name": "python",
   "nbconvert_exporter": "python",
   "pygments_lexer": "ipython3",
   "version": "3.11.5"
  }
 },
 "nbformat": 4,
 "nbformat_minor": 5
}
