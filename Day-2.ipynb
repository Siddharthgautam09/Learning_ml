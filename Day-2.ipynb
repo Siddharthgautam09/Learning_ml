{
 "cells": [
  {
   "cell_type": "code",
   "execution_count": null,
   "id": "82d702e1",
   "metadata": {},
   "outputs": [],
   "source": []
  },
  {
   "cell_type": "code",
   "execution_count": null,
   "id": "d30fc7f3",
   "metadata": {},
   "outputs": [],
   "source": []
  },
  {
   "cell_type": "code",
   "execution_count": 1,
   "id": "f09a1f5a",
   "metadata": {},
   "outputs": [],
   "source": [
    "a: str = \"Ayush\""
   ]
  },
  {
   "cell_type": "code",
   "execution_count": 2,
   "id": "e7f81924",
   "metadata": {},
   "outputs": [],
   "source": [
    "a=1"
   ]
  },
  {
   "cell_type": "code",
   "execution_count": 3,
   "id": "72581949",
   "metadata": {},
   "outputs": [
    {
     "data": {
      "text/plain": [
       "int"
      ]
     },
     "execution_count": 3,
     "metadata": {},
     "output_type": "execute_result"
    }
   ],
   "source": [
    "type(a)"
   ]
  },
  {
   "cell_type": "code",
   "execution_count": 3,
   "id": "19bb8b48",
   "metadata": {},
   "outputs": [],
   "source": [
    "multistr='''\n",
    "This is a multiline string\n",
    "hello\n",
    "innogeeks\n",
    "'''"
   ]
  },
  {
   "cell_type": "code",
   "execution_count": 4,
   "id": "c922be36",
   "metadata": {},
   "outputs": [
    {
     "name": "stdout",
     "output_type": "stream",
     "text": [
      "\n",
      "This is a multiline string\n",
      "hello\n",
      "innogeeks\n",
      "\n"
     ]
    }
   ],
   "source": [
    "print(multistr)"
   ]
  },
  {
   "cell_type": "code",
   "execution_count": 5,
   "id": "3e7f9503",
   "metadata": {},
   "outputs": [
    {
     "data": {
      "text/plain": [
       "'\\nThis is a multiline string\\nhello\\ninnogeeks\\n'"
      ]
     },
     "execution_count": 5,
     "metadata": {},
     "output_type": "execute_result"
    }
   ],
   "source": [
    "multistr\n"
   ]
  },
  {
   "cell_type": "code",
   "execution_count": 6,
   "id": "1eff6822",
   "metadata": {},
   "outputs": [],
   "source": [
    "x=\"\"\"a\n",
    "b\n",
    "c\n",
    "d\"\"\""
   ]
  },
  {
   "cell_type": "code",
   "execution_count": 7,
   "id": "2ad15f86",
   "metadata": {},
   "outputs": [
    {
     "data": {
      "text/plain": [
       "'a\\nb\\nc\\nd'"
      ]
     },
     "execution_count": 7,
     "metadata": {},
     "output_type": "execute_result"
    }
   ],
   "source": [
    "x"
   ]
  },
  {
   "cell_type": "code",
   "execution_count": 8,
   "id": "eac01e5f",
   "metadata": {},
   "outputs": [],
   "source": [
    "#String as Array"
   ]
  },
  {
   "cell_type": "code",
   "execution_count": 9,
   "id": "77f7fb61",
   "metadata": {},
   "outputs": [],
   "source": [
    "string = \"Innogeeks\""
   ]
  },
  {
   "cell_type": "code",
   "execution_count": 10,
   "id": "e698efe7",
   "metadata": {},
   "outputs": [
    {
     "name": "stdout",
     "output_type": "stream",
     "text": [
      "I\n"
     ]
    }
   ],
   "source": [
    "print(string[0])"
   ]
  },
  {
   "cell_type": "code",
   "execution_count": 12,
   "id": "bf49afe3",
   "metadata": {},
   "outputs": [
    {
     "name": "stdout",
     "output_type": "stream",
     "text": [
      "k\n",
      "k\n"
     ]
    }
   ],
   "source": [
    "print(string[-2])\n",
    "print(string[7])"
   ]
  },
  {
   "cell_type": "markdown",
   "id": "003bf779",
   "metadata": {},
   "source": [
    "# String Slicing"
   ]
  },
  {
   "cell_type": "code",
   "execution_count": 14,
   "id": "93ce0544",
   "metadata": {},
   "outputs": [
    {
     "name": "stdout",
     "output_type": "stream",
     "text": [
      "In\n"
     ]
    }
   ],
   "source": [
    "print(string[0:2])"
   ]
  },
  {
   "cell_type": "code",
   "execution_count": 33,
   "id": "8cbf70a9",
   "metadata": {},
   "outputs": [
    {
     "name": "stdout",
     "output_type": "stream",
     "text": [
      "Innogeek\n",
      "Innogeeks\n",
      "Innogee\n",
      "\n",
      "ek\n"
     ]
    }
   ],
   "source": [
    "print(string[0:-1])\n",
    "print(string[0:])\n",
    "print(string[0:-2])\n",
    "print(string[-1:-3])\n",
    "print(string[-3:-1])"
   ]
  },
  {
   "cell_type": "code",
   "execution_count": 28,
   "id": "852698a5",
   "metadata": {},
   "outputs": [
    {
     "name": "stdout",
     "output_type": "stream",
     "text": [
      "Ing\n"
     ]
    }
   ],
   "source": [
    "# start stop step\n",
    "print(string[0:5:2])"
   ]
  },
  {
   "cell_type": "code",
   "execution_count": 31,
   "id": "89376114",
   "metadata": {},
   "outputs": [
    {
     "name": "stdout",
     "output_type": "stream",
     "text": [
      "Innogeeks\n"
     ]
    }
   ],
   "source": [
    "print(string[::])"
   ]
  },
  {
   "cell_type": "code",
   "execution_count": 41,
   "id": "58ef500d",
   "metadata": {},
   "outputs": [],
   "source": [
    "abc=\"Innotech\""
   ]
  },
  {
   "cell_type": "code",
   "execution_count": 42,
   "id": "2bac65e3",
   "metadata": {},
   "outputs": [],
   "source": [
    "ab=abc[1:3:5]"
   ]
  },
  {
   "cell_type": "code",
   "execution_count": 43,
   "id": "b8cb6c5c",
   "metadata": {},
   "outputs": [
    {
     "data": {
      "text/plain": [
       "'n'"
      ]
     },
     "execution_count": 43,
     "metadata": {},
     "output_type": "execute_result"
    }
   ],
   "source": [
    "ab"
   ]
  },
  {
   "cell_type": "code",
   "execution_count": 7,
   "id": "424b4ff5",
   "metadata": {},
   "outputs": [
    {
     "name": "stdout",
     "output_type": "stream",
     "text": [
      "A Shetty\n"
     ]
    }
   ],
   "source": [
    "x=\"Arun\"\n",
    "y=\"Shetty\"\n",
    "z=(x[0]+' '+y)\n",
    "print(z)"
   ]
  },
  {
   "cell_type": "code",
   "execution_count": null,
   "id": "8e019c8d",
   "metadata": {},
   "outputs": [],
   "source": []
  },
  {
   "cell_type": "code",
   "execution_count": null,
   "id": "5d92dc38",
   "metadata": {},
   "outputs": [],
   "source": []
  }
 ],
 "metadata": {
  "kernelspec": {
   "display_name": "Python 3 (ipykernel)",
   "language": "python",
   "name": "python3"
  },
  "language_info": {
   "codemirror_mode": {
    "name": "ipython",
    "version": 3
   },
   "file_extension": ".py",
   "mimetype": "text/x-python",
   "name": "python",
   "nbconvert_exporter": "python",
   "pygments_lexer": "ipython3",
   "version": "3.11.5"
  }
 },
 "nbformat": 4,
 "nbformat_minor": 5
}
