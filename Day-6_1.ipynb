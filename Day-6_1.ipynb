{
 "cells": [
  {
   "cell_type": "markdown",
   "id": "a9477efa",
   "metadata": {},
   "source": [
    "# using np.random"
   ]
  },
  {
   "cell_type": "code",
   "execution_count": 26,
   "id": "13749683",
   "metadata": {},
   "outputs": [
    {
     "name": "stdout",
     "output_type": "stream",
     "text": [
      "22\n"
     ]
    }
   ],
   "source": [
    "import numpy as np\n",
    "random_arr = np.random.randint(1,100)\n",
    "print(random_arr)\n"
   ]
  },
  {
   "cell_type": "code",
   "execution_count": 14,
   "id": "47d529fd",
   "metadata": {},
   "outputs": [
    {
     "name": "stdout",
     "output_type": "stream",
     "text": [
      "[[4 7 6 8 9 5]\n",
      " [9 5 7 7 6 4]\n",
      " [4 8 6 5 4 4]\n",
      " [4 7 6 6 7 7]]\n"
     ]
    }
   ],
   "source": [
    "out_arr =np.random.randint(low = 4, high=10, size=(4,6))\n",
    "print(out_arr)"
   ]
  },
  {
   "cell_type": "code",
   "execution_count": 23,
   "id": "7af0c3aa",
   "metadata": {},
   "outputs": [
    {
     "name": "stdout",
     "output_type": "stream",
     "text": [
      "[[8.36696748 2.24686982 3.07770601]\n",
      " [9.66294799 4.09948505 5.49539457]\n",
      " [4.55359953 3.6473124  6.88316363]]\n"
     ]
    }
   ],
   "source": [
    "arr1 = np.random.rand(3,3)*9+1\n",
    "print(arr1)"
   ]
  },
  {
   "cell_type": "code",
   "execution_count": 27,
   "id": "c3caadb8",
   "metadata": {},
   "outputs": [
    {
     "name": "stdout",
     "output_type": "stream",
     "text": [
      "[[8 4 3 2 8]\n",
      " [8 4 7 4 3]\n",
      " [1 3 1 7 6]\n",
      " [5 3 2 4 5]\n",
      " [6 5 7 1 4]]\n"
     ]
    }
   ],
   "source": [
    "arr2=np.random.randint(low=1 ,high =9, size=(5,5))\n",
    "print(arr2)"
   ]
  },
  {
   "cell_type": "code",
   "execution_count": 30,
   "id": "ec217054",
   "metadata": {},
   "outputs": [
    {
     "name": "stdout",
     "output_type": "stream",
     "text": [
      "2\n",
      "[1 2 3 4 5 6]\n",
      "[1 9 3 4 5 6]\n"
     ]
    }
   ],
   "source": [
    "arr3 = np.array([1,2,3,4,5,6])\n",
    "print(arr3[1])\n",
    "print(arr3)\n",
    "arr3[1]=9\n",
    "print(arr3)"
   ]
  },
  {
   "cell_type": "markdown",
   "id": "b4e4326b",
   "metadata": {},
   "source": [
    "# Indexing in one-dimesnional and multi-dimesional arrays"
   ]
  },
  {
   "cell_type": "code",
   "execution_count": 31,
   "id": "7865da1a",
   "metadata": {},
   "outputs": [],
   "source": [
    "# zero d array                0,1,2,3,4.................\n",
    "# one d array np.array        [pass zero d array]\n",
    "# two d array\n",
    "# three d array\n",
    "# multi d array"
   ]
  },
  {
   "cell_type": "code",
   "execution_count": null,
   "id": "efda0ef5",
   "metadata": {},
   "outputs": [],
   "source": [
    "# making 1d array into 2d array\n"
   ]
  }
 ],
 "metadata": {
  "kernelspec": {
   "display_name": "Python 3 (ipykernel)",
   "language": "python",
   "name": "python3"
  },
  "language_info": {
   "codemirror_mode": {
    "name": "ipython",
    "version": 3
   },
   "file_extension": ".py",
   "mimetype": "text/x-python",
   "name": "python",
   "nbconvert_exporter": "python",
   "pygments_lexer": "ipython3",
   "version": "3.11.5"
  }
 },
 "nbformat": 4,
 "nbformat_minor": 5
}
