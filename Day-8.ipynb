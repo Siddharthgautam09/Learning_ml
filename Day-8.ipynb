{
 "cells": [
  {
   "cell_type": "markdown",
   "id": "b2edce64",
   "metadata": {},
   "source": [
    "# Array shape and Reshape"
   ]
  },
  {
   "cell_type": "code",
   "execution_count": 32,
   "id": "c4268206",
   "metadata": {},
   "outputs": [],
   "source": [
    "    #shape return the dimensions of an array\n",
    "    #ndim returns the number of dimensions\n",
    "    #size returns thetotal number of elements"
   ]
  },
  {
   "cell_type": "code",
   "execution_count": 33,
   "id": "252fda04",
   "metadata": {},
   "outputs": [
    {
     "name": "stdout",
     "output_type": "stream",
     "text": [
      "(2, 3)\n",
      "2\n",
      "6\n",
      "<class 'numpy.ndarray'>\n"
     ]
    }
   ],
   "source": [
    "import numpy as np\n",
    "arr=np.array([[1,2,3,],[4,5,6]])\n",
    "print(arr.shape)\n",
    "print(arr.ndim)\n",
    "print(arr.size)\n",
    "print(type(arr))"
   ]
  },
  {
   "cell_type": "markdown",
   "id": "c65fd6ef",
   "metadata": {},
   "source": [
    "# Reshaping array with reshape()"
   ]
  },
  {
   "cell_type": "code",
   "execution_count": 34,
   "id": "d58e84d9",
   "metadata": {},
   "outputs": [
    {
     "name": "stdout",
     "output_type": "stream",
     "text": [
      "[[ 1  2  3]\n",
      " [ 4  5  6]\n",
      " [ 7  8  9]\n",
      " [10 11 12]]\n",
      "(4, 3)\n",
      "[[ 1  2  3  4  5  6]\n",
      " [ 7  8  9 10 11 12]]\n",
      "(2, 6)\n"
     ]
    }
   ],
   "source": [
    "import numpy as np\n",
    "arr=np.array([[1,2,3],[4,5,6],[7,8,9],[10,11,12]])\n",
    "reshaped_arr = arr.reshape((2,6))\n",
    "print(arr)\n",
    "print(arr.shape)\n",
    "print(reshaped_arr)\n",
    "print(reshaped_arr.shape)\n"
   ]
  },
  {
   "cell_type": "code",
   "execution_count": 35,
   "id": "05a15566",
   "metadata": {},
   "outputs": [
    {
     "name": "stdout",
     "output_type": "stream",
     "text": [
      "[[[ 1  2  3]\n",
      "  [ 4  5  6]]\n",
      "\n",
      " [[ 7  8  9]\n",
      "  [10 11 12]]]\n",
      "(2, 2, 3)\n",
      "[ 1  2  3  4  5  6  7  8  9 10 11 12]\n",
      "(12,)\n"
     ]
    }
   ],
   "source": [
    "import numpy as np\n",
    "arr=np.array([1,2,3,4,5,6,7,8,9,10,11,12])\n",
    "reshaped_arr = arr.reshape((2,6))\n",
    "reshaped_arr2 = arr.reshape((2,2,3))\n",
    "#print(arr)\n",
    "#print(arr.shape)\n",
    "#print(reshaped_arr)\n",
    "#print(reshaped_arr.shape)\n",
    "print(reshaped_arr2)\n",
    "print(reshaped_arr2.shape)\n",
    "reshaped_arr3=reshaped_arr2.reshape(-1)\n",
    "print(reshaped_arr3)\n",
    "print(reshaped_arr3.shape)"
   ]
  },
  {
   "cell_type": "markdown",
   "id": "d8d9c9be",
   "metadata": {},
   "source": [
    "# Array Iterating and Universal Functions (ufuncs)"
   ]
  },
  {
   "cell_type": "markdown",
   "id": "6f1641b1",
   "metadata": {},
   "source": [
    "# introduction to nditer"
   ]
  },
  {
   "cell_type": "code",
   "execution_count": 44,
   "id": "f19136fa",
   "metadata": {},
   "outputs": [
    {
     "name": "stdout",
     "output_type": "stream",
     "text": [
      "[1 2 3]\n",
      "[4 5 6]\n",
      "1\n",
      "2\n",
      "3\n",
      "4\n",
      "5\n",
      "6\n"
     ]
    }
   ],
   "source": [
    "import numpy as np\n",
    "arr=np.array([[1,2,3],[4,5,6]])\n",
    "\n",
    "for i in arr:\n",
    "    print(i)\n",
    "for elm in np.nditer(arr):\n",
    "    print(elm)"
   ]
  },
  {
   "cell_type": "markdown",
   "id": "93307caf",
   "metadata": {},
   "source": [
    "# using np.sin() and np.exp()"
   ]
  },
  {
   "cell_type": "code",
   "execution_count": 47,
   "id": "3d361146",
   "metadata": {},
   "outputs": [
    {
     "name": "stdout",
     "output_type": "stream",
     "text": [
      "[0.84147098 0.90929743 0.14112001]\n",
      "[ 2.71828183  7.3890561  20.08553692]\n"
     ]
    }
   ],
   "source": [
    "arr=np.array([1,2,3])\n",
    "sin_arr = np.sin(arr)\n",
    "exp_arr = np.exp(arr)\n",
    "print(sin_arr)\n",
    "print(exp_arr)"
   ]
  },
  {
   "cell_type": "markdown",
   "id": "53495cd2",
   "metadata": {},
   "source": [
    "# array multiplication"
   ]
  },
  {
   "cell_type": "code",
   "execution_count": 51,
   "id": "f632e1e5",
   "metadata": {},
   "outputs": [
    {
     "name": "stdout",
     "output_type": "stream",
     "text": [
      "[[20 23 26]\n",
      " [59 68 77]]\n"
     ]
    }
   ],
   "source": [
    "import numpy as np\n",
    "arr1=np.array([[1,2,3],[4,5,6]])\n",
    "arr2=np.array([[7,8,9],[5,6,7],[1,1,1]])\n",
    "result=np.dot(arr1,arr2)\n",
    "print(result)"
   ]
  },
  {
   "cell_type": "code",
   "execution_count": null,
   "id": "602d557e",
   "metadata": {},
   "outputs": [],
   "source": []
  }
 ],
 "metadata": {
  "kernelspec": {
   "display_name": "Python 3 (ipykernel)",
   "language": "python",
   "name": "python3"
  },
  "language_info": {
   "codemirror_mode": {
    "name": "ipython",
    "version": 3
   },
   "file_extension": ".py",
   "mimetype": "text/x-python",
   "name": "python",
   "nbconvert_exporter": "python",
   "pygments_lexer": "ipython3",
   "version": "3.11.5"
  }
 },
 "nbformat": 4,
 "nbformat_minor": 5
}
