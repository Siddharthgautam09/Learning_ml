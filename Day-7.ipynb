{
 "cells": [
  {
   "cell_type": "markdown",
   "id": "e149e307",
   "metadata": {},
   "source": [
    "# Indexing in one-dimesnional and multi-dimesional arrays"
   ]
  },
  {
   "cell_type": "code",
   "execution_count": 1,
   "id": "eb723edd",
   "metadata": {},
   "outputs": [],
   "source": [
    "# zero d array                0,1,2,3,4.................\n",
    "# one d array np.array        [pass zero d array]\n",
    "# two d array\n",
    "# three d array\n",
    "# multi d array"
   ]
  },
  {
   "cell_type": "code",
   "execution_count": 2,
   "id": "de20e599",
   "metadata": {},
   "outputs": [],
   "source": []
  },
  {
   "cell_type": "markdown",
   "id": "ad8b51a5",
   "metadata": {},
   "source": [
    "# Slicing array and understand views"
   ]
  },
  {
   "cell_type": "code",
   "execution_count": 4,
   "id": "0c5d321a",
   "metadata": {},
   "outputs": [
    {
     "name": "stdout",
     "output_type": "stream",
     "text": [
      "[2 3 4]\n"
     ]
    }
   ],
   "source": [
    "import numpy as np\n",
    "arr= np.array([1,2,3,4,5])\n",
    "sliced_arr = arr[1:4]\n",
    "print(sliced_arr)"
   ]
  },
  {
   "cell_type": "code",
   "execution_count": 13,
   "id": "81ce9ad1",
   "metadata": {},
   "outputs": [
    {
     "name": "stdout",
     "output_type": "stream",
     "text": [
      "[[ 1  2  3  4  5]\n",
      " [ 6  7  8  9 10]]\n"
     ]
    }
   ],
   "source": [
    "import numpy as np\n",
    "array=np.array([[1,2,3,4,5],[6,7,8,9,10]])\n",
    "print(array)"
   ]
  },
  {
   "cell_type": "code",
   "execution_count": 15,
   "id": "6d96f12a",
   "metadata": {},
   "outputs": [
    {
     "data": {
      "text/plain": [
       "array([1, 2])"
      ]
     },
     "execution_count": 15,
     "metadata": {},
     "output_type": "execute_result"
    }
   ],
   "source": [
    "import numpy as np\n",
    "arr=np.array([[1,2,3],[4,5,6],[7,8,9]])\n",
    "arr[0,0:2]"
   ]
  },
  {
   "cell_type": "code",
   "execution_count": 18,
   "id": "4d2ab5b7",
   "metadata": {},
   "outputs": [
    {
     "name": "stdout",
     "output_type": "stream",
     "text": [
      "[[1 2]\n",
      " [4 5]]\n",
      "[[1 2 3]\n",
      " [4 5 6]\n",
      " [7 8 9]]\n"
     ]
    }
   ],
   "source": [
    "arr=np.array([[1,2,3],[4,5,6],[7,8,9]])\n",
    "print(arr[0:2,0:2])\n",
    "print(arr)"
   ]
  },
  {
   "cell_type": "markdown",
   "id": "052186f2",
   "metadata": {},
   "source": [
    "# 3-D array"
   ]
  },
  {
   "cell_type": "code",
   "execution_count": 20,
   "id": "e9242c41",
   "metadata": {},
   "outputs": [
    {
     "name": "stdout",
     "output_type": "stream",
     "text": [
      "[[[ 1  2  3]\n",
      "  [ 4  5  6]\n",
      "  [ 7  8  9]\n",
      "  [10 11 12]\n",
      "  [13 14 15]]]\n"
     ]
    }
   ],
   "source": [
    "arr=np.array([[[1,2,3],[4,5,6],[7,8,9],[10,11,12],[13,14,15]]])\n",
    "print(arr)"
   ]
  },
  {
   "cell_type": "code",
   "execution_count": 31,
   "id": "7b3c8e0e",
   "metadata": {},
   "outputs": [
    {
     "name": "stdout",
     "output_type": "stream",
     "text": [
      "[[[ 1  2  3]\n",
      "  [ 4  5  6]\n",
      "  [ 7  8  9]]\n",
      "\n",
      " [[10 11 12]\n",
      "  [13 14 15]\n",
      "  [16 17 18]]\n",
      "\n",
      " [[19 20 21]\n",
      "  [22 23 24]\n",
      "  [25 26 27]]]\n"
     ]
    }
   ],
   "source": [
    "arr=np.array([[[1,2,3],[4,5,6],[7,8,9]],[[10,11,12],[13,14,15],[16,17,18]],[[19,20,21],[22,23,24],[25,26,27]]])\n",
    "print(arr)\n"
   ]
  },
  {
   "cell_type": "code",
   "execution_count": 30,
   "id": "2200e914",
   "metadata": {},
   "outputs": [
    {
     "name": "stdout",
     "output_type": "stream",
     "text": [
      "[[ 4  5]\n",
      " [13 14]\n",
      " [22 23]]\n"
     ]
    }
   ],
   "source": [
    "print(arr[0:3,1,0:2])"
   ]
  },
  {
   "cell_type": "markdown",
   "id": "d493e7a9",
   "metadata": {},
   "source": [
    "# copying and viewing datatype\n"
   ]
  },
  {
   "cell_type": "code",
   "execution_count": 54,
   "id": "972cfd27",
   "metadata": {},
   "outputs": [
    {
     "name": "stdout",
     "output_type": "stream",
     "text": [
      "[1 2 3]\n",
      "int64\n"
     ]
    }
   ],
   "source": [
    "arr = np.array([1,2,3], dtype='int64')\n",
    "print(arr)\n",
    "print(arr.dtype)"
   ]
  },
  {
   "cell_type": "code",
   "execution_count": 45,
   "id": "dc328542",
   "metadata": {},
   "outputs": [
    {
     "name": "stdout",
     "output_type": "stream",
     "text": [
      "[1 2 3 4]\n",
      "[10  2  3  4]\n"
     ]
    }
   ],
   "source": [
    "arr = np.array([1,2,3,4])\n",
    "arr1 = arr.copy()\n",
    "arr2 = arr.view()\n",
    "arr[0]=10\n",
    "print(arr1)\n",
    "print(arr2)"
   ]
  },
  {
   "cell_type": "code",
   "execution_count": 47,
   "id": "24d0e11e",
   "metadata": {},
   "outputs": [
    {
     "name": "stdout",
     "output_type": "stream",
     "text": [
      "[4 5 6 7 8 9]\n"
     ]
    }
   ],
   "source": [
    "arr2=np.array([4,5,6,7,8,9])\n",
    "arr3=np.copy(arr2)\n",
    "#arr4=np.view(arr2)\n",
    "arr2[2]=1\n",
    "print(arr3)\n",
    "#print(arr2)"
   ]
  },
  {
   "cell_type": "code",
   "execution_count": null,
   "id": "925ee8e1",
   "metadata": {},
   "outputs": [],
   "source": []
  }
 ],
 "metadata": {
  "kernelspec": {
   "display_name": "Python 3 (ipykernel)",
   "language": "python",
   "name": "python3"
  },
  "language_info": {
   "codemirror_mode": {
    "name": "ipython",
    "version": 3
   },
   "file_extension": ".py",
   "mimetype": "text/x-python",
   "name": "python",
   "nbconvert_exporter": "python",
   "pygments_lexer": "ipython3",
   "version": "3.11.5"
  }
 },
 "nbformat": 4,
 "nbformat_minor": 5
}
