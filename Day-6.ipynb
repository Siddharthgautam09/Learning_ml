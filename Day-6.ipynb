{
 "cells": [
  {
   "cell_type": "markdown",
   "id": "6e3c88d4",
   "metadata": {},
   "source": [
    "# LIBRARY"
   ]
  },
  {
   "cell_type": "markdown",
   "id": "9f51d843",
   "metadata": {},
   "source": [
    "# Numpy- Numerical Python\n"
   ]
  },
  {
   "cell_type": "code",
   "execution_count": 1,
   "id": "8d2399b3",
   "metadata": {},
   "outputs": [
    {
     "name": "stdout",
     "output_type": "stream",
     "text": [
      "[1 2 3]\n",
      "<class 'numpy.ndarray'>\n"
     ]
    }
   ],
   "source": [
    "import numpy as np\n",
    "arr = np.array([1,2,3])\n",
    "print(arr)\n",
    "print(type(arr))  #numpy.ndarray where nd is n dimensions"
   ]
  },
  {
   "cell_type": "markdown",
   "id": "990be3a6",
   "metadata": {},
   "source": [
    "# using np.zeros() and np.ones()"
   ]
  },
  {
   "cell_type": "code",
   "execution_count": 2,
   "id": "09ed2dbd",
   "metadata": {},
   "outputs": [
    {
     "data": {
      "text/plain": [
       "array([[1., 1.],\n",
       "       [1., 1.],\n",
       "       [1., 1.]])"
      ]
     },
     "execution_count": 2,
     "metadata": {},
     "output_type": "execute_result"
    }
   ],
   "source": [
    "zeros_arr = np.zeros((2,3)) #2x3 array of zeros\n",
    "ones_arr = np.ones((3,2))\n",
    "ones_arr"
   ]
  },
  {
   "cell_type": "code",
   "execution_count": 3,
   "id": "06e57c9c",
   "metadata": {},
   "outputs": [
    {
     "data": {
      "text/plain": [
       "array([[0., 0., 0.],\n",
       "       [0., 0., 0.]])"
      ]
     },
     "execution_count": 3,
     "metadata": {},
     "output_type": "execute_result"
    }
   ],
   "source": [
    "zeros_arr"
   ]
  },
  {
   "cell_type": "markdown",
   "id": "16b9e2e5",
   "metadata": {},
   "source": [
    "# using np.arrange() and np.linspace()"
   ]
  },
  {
   "cell_type": "code",
   "execution_count": 4,
   "id": "d19c2705",
   "metadata": {},
   "outputs": [
    {
     "name": "stdout",
     "output_type": "stream",
     "text": [
      "[0 3 6 9]\n"
     ]
    },
    {
     "data": {
      "text/plain": [
       "array([0, 3, 6, 9])"
      ]
     },
     "execution_count": 4,
     "metadata": {},
     "output_type": "execute_result"
    }
   ],
   "source": [
    "arange_arr = np.arange(0,10,3)\n",
    "print(arange_arr)\n",
    "arange_arr\n"
   ]
  },
  {
   "cell_type": "code",
   "execution_count": 5,
   "id": "89605f0e",
   "metadata": {},
   "outputs": [
    {
     "data": {
      "text/plain": [
       "array([0.  , 0.25, 0.5 , 0.75, 1.  ])"
      ]
     },
     "execution_count": 5,
     "metadata": {},
     "output_type": "execute_result"
    }
   ],
   "source": [
    "linspace_arr= np.linspace(0,1,5)\n",
    "linspace_arr"
   ]
  },
  {
   "cell_type": "code",
   "execution_count": 6,
   "id": "5672c27b",
   "metadata": {},
   "outputs": [
    {
     "data": {
      "text/plain": [
       "array([0., 1.])"
      ]
     },
     "execution_count": 6,
     "metadata": {},
     "output_type": "execute_result"
    }
   ],
   "source": [
    "linspace_arr= np.linspace(0,1,2)\n",
    "linspace_arr"
   ]
  },
  {
   "cell_type": "code",
   "execution_count": 7,
   "id": "dc5e8079",
   "metadata": {},
   "outputs": [
    {
     "name": "stdout",
     "output_type": "stream",
     "text": [
      "[0]\n"
     ]
    },
    {
     "data": {
      "text/plain": [
       "array([0])"
      ]
     },
     "execution_count": 7,
     "metadata": {},
     "output_type": "execute_result"
    }
   ],
   "source": [
    "arange_arr = np.arange(0,1,5)\n",
    "print(arange_arr)\n",
    "arange_arr"
   ]
  },
  {
   "cell_type": "markdown",
   "id": "a38b40f8",
   "metadata": {},
   "source": [
    "# using np.random"
   ]
  },
  {
   "cell_type": "code",
   "execution_count": 16,
   "id": "d6fb6ca0",
   "metadata": {},
   "outputs": [
    {
     "ename": "AttributeError",
     "evalue": "'builtin_function_or_method' object has no attribute 'rand'",
     "output_type": "error",
     "traceback": [
      "\u001b[1;31m---------------------------------------------------------------------------\u001b[0m",
      "\u001b[1;31mAttributeError\u001b[0m                            Traceback (most recent call last)",
      "Cell \u001b[1;32mIn[16], line 1\u001b[0m\n\u001b[1;32m----> 1\u001b[0m random_arr \u001b[38;5;241m=\u001b[39m np\u001b[38;5;241m.\u001b[39mrandom\u001b[38;5;241m.\u001b[39mrand(\u001b[38;5;241m2\u001b[39m,\u001b[38;5;241m3\u001b[39m)\n\u001b[0;32m      2\u001b[0m random_arr\n",
      "\u001b[1;31mAttributeError\u001b[0m: 'builtin_function_or_method' object has no attribute 'rand'"
     ]
    }
   ],
   "source": [
    "random_arr = np.random.rand(2,3)\n",
    "random_arr\n"
   ]
  },
  {
   "cell_type": "markdown",
   "id": "1be51e0c",
   "metadata": {},
   "source": []
  },
  {
   "cell_type": "code",
   "execution_count": null,
   "id": "845997c7",
   "metadata": {},
   "outputs": [],
   "source": []
  }
 ],
 "metadata": {
  "kernelspec": {
   "display_name": "Python 3 (ipykernel)",
   "language": "python",
   "name": "python3"
  },
  "language_info": {
   "codemirror_mode": {
    "name": "ipython",
    "version": 3
   },
   "file_extension": ".py",
   "mimetype": "text/x-python",
   "name": "python",
   "nbconvert_exporter": "python",
   "pygments_lexer": "ipython3",
   "version": "3.11.5"
  }
 },
 "nbformat": 4,
 "nbformat_minor": 5
}
